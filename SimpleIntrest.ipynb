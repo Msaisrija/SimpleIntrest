{
 "cells": [
  {
   "cell_type": "code",
   "execution_count": 1,
   "id": "bd3915e9-117b-4d5f-939a-002cd16c669a",
   "metadata": {},
   "outputs": [
    {
     "name": "stdin",
     "output_type": "stream",
     "text": [
      "Enter the principal amount :  8000\n",
      "Enter the rateOfIntrest in %: 2\n",
      "Enter the timePeriod in years: 3\n"
     ]
    },
    {
     "name": "stdout",
     "output_type": "stream",
     "text": [
      "Simple intrest is :  480.0\n",
      "Total Amount is :  8480.0\n"
     ]
    }
   ],
   "source": [
    "principal=float(input(\"Enter the principal amount : \"))\n",
    "rateOfIntrest=float(input(\"Enter the rateOfIntrest in %:\"))\n",
    "timePeriod=float(input(\"Enter the timePeriod in years:\"))\n",
    "simpleIntrest=principal*timePeriod*rateOfIntrest/100  \n",
    "totalAmount=simpleIntrest+principal  \n",
    "print(\"Simple intrest is : \",simpleIntrest)\n",
    "print(\"Total Amount is : \",totalAmount)\n"
   ]
  },
  {
   "cell_type": "code",
   "execution_count": null,
   "id": "15cea6cf-e37e-4eab-a7e7-37324fb18f97",
   "metadata": {},
   "outputs": [],
   "source": []
  }
 ],
 "metadata": {
  "kernelspec": {
   "display_name": "Python 3 (ipykernel)",
   "language": "python",
   "name": "python3"
  },
  "language_info": {
   "codemirror_mode": {
    "name": "ipython",
    "version": 3
   },
   "file_extension": ".py",
   "mimetype": "text/x-python",
   "name": "python",
   "nbconvert_exporter": "python",
   "pygments_lexer": "ipython3",
   "version": "3.12.4"
  }
 },
 "nbformat": 4,
 "nbformat_minor": 5
}
